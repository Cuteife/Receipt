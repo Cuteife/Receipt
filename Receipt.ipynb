{
 "cells": [
  {
   "cell_type": "code",
   "execution_count": null,
   "id": "6400845a-b932-486b-95e3-4496688763f1",
   "metadata": {},
   "outputs": [],
   "source": []
  },
  {
   "cell_type": "code",
   "execution_count": null,
   "id": "8428088d-5fd7-4d6b-b0b4-38b44adbcab5",
   "metadata": {},
   "outputs": [],
   "source": []
  },
  {
   "cell_type": "code",
   "execution_count": 12,
   "id": "eae467a2-b750-4b23-88d7-ca2e9acdc738",
   "metadata": {},
   "outputs": [
    {
     "name": "stdout",
     "output_type": "stream",
     "text": [
      "Welcome to the Billing System!\n",
      "\n",
      "\n",
      "Adding a new item:\n"
     ]
    },
    {
     "name": "stdin",
     "output_type": "stream",
     "text": [
      "Enter item name:  apples\n",
      "Enter price of apples:  1.50\n",
      "Enter quantity of apples:  5\n",
      "Do you want to add another item? (yes/no):  yes\n"
     ]
    },
    {
     "name": "stdout",
     "output_type": "stream",
     "text": [
      "\n",
      "Adding a new item:\n"
     ]
    },
    {
     "name": "stdin",
     "output_type": "stream",
     "text": [
      "Enter item name:  bread\n",
      "Enter price of bread:  3.00\n",
      "Enter quantity of bread:  2\n",
      "Do you want to add another item? (yes/no):  no\n"
     ]
    },
    {
     "name": "stdout",
     "output_type": "stream",
     "text": [
      "\n",
      "Receipt: \n",
      "--------------------\n",
      "apples: $1.5 x 5 = $7.50 \n",
      "bread: $3.0 x 2 = $6.00 \n",
      "--------------------\n",
      "Subtotal: $13.50\n",
      "Sales Tax (7.5%): $1.01\n",
      "Discount: -$0.00\n",
      "--------------------\n",
      "Final Total: $14.51\n"
     ]
    }
   ],
   "source": [
    "class BillingSystem:\n",
    "    def __init__(self):\n",
    "        self.cart = []\n",
    "\n",
    "    def add_item(self):\n",
    "        name = input(\"Enter item name: \")\n",
    "        price = float(input(f\"Enter price of {name}: \"))\n",
    "        quantity = int(input(f\"Enter quantity of {name}: \"))\n",
    "        self.cart.append({\"name\" : name, \"price\": price, \"quantity\": quantity})\n",
    "\n",
    "    def calculate_subtotal(self):\n",
    "        subtotal = 0\n",
    "        for item in self.cart:\n",
    "            subtotal = sum(item[\"price\"] * item[\"quantity\"] for item in self.cart)\n",
    "            return subtotal\n",
    "\n",
    "    def calculate_tax(self, subtotal, tax_rate = 0.075):\n",
    "        return round(subtotal * tax_rate, 2)\n",
    "\n",
    "    def add_discount(self, subtotal):\n",
    "        if subtotal > 200:\n",
    "            return round(subtotal * 0.20, 2)\n",
    "        elif subtotal > 100:\n",
    "            return round(subtotal * 0.10, 2)\n",
    "        else:\n",
    "            return 0.00\n",
    "\n",
    "# To generate receipt\n",
    "\n",
    "    def generate_receipt(self, subtotal, tax, discount, final_total):\n",
    "        print(\"\\nReceipt: \")\n",
    "        print(\"-\" * 20)\n",
    "        for item in self.cart:\n",
    "            item_total = item[\"price\"] * item[\"quantity\"]\n",
    "            print(f\"{item['name']}: ${item['price']} x {item['quantity']} = ${item_total:.2f} \")\n",
    "        print(\"-\" * 20)\n",
    "        print(f\"Subtotal: ${subtotal:.2f}\")\n",
    "        print(f\"Sales Tax (7.5%): ${tax:.2f}\")\n",
    "        print(f\"Discount: -${discount:.2f}\")\n",
    "        print(\"-\" *20)\n",
    "        print(f\"Final Total: ${final_total:.2f}\")\n",
    "\n",
    "# To run the app\n",
    "\n",
    "    def run(self):\n",
    "        print(\"Welcome to the Billing System!\\n\")\n",
    "        while True:\n",
    "            print(\"\\nAdding a new item:\")\n",
    "            self.add_item()\n",
    "            another = input('Do you want to add another item? (yes/no): ').strip().lower()\n",
    "            if another != \"yes\":\n",
    "                    break\n",
    "\n",
    "#calculations\n",
    "\n",
    "        subtotal = self.calculate_subtotal()\n",
    "        tax = self.calculate_tax(subtotal)\n",
    "        discount = self.add_discount(subtotal)\n",
    "        final_total = subtotal + tax - discount\n",
    "\n",
    "#display receipt\n",
    "\n",
    "        self.generate_receipt(subtotal, tax, discount, final_total)\n",
    "\n",
    "# Instance of the class and running the app\n",
    "\n",
    "billing_system = BillingSystem()\n",
    "billing_system.run()\n",
    "\n",
    "        "
   ]
  },
  {
   "cell_type": "code",
   "execution_count": null,
   "id": "d55ed55d-f373-40c6-8ccc-1f82fe3eee71",
   "metadata": {},
   "outputs": [],
   "source": []
  },
  {
   "cell_type": "code",
   "execution_count": null,
   "id": "8d605f51-9070-4aa5-b4ed-75b33c62f8b8",
   "metadata": {},
   "outputs": [],
   "source": []
  }
 ],
 "metadata": {
  "kernelspec": {
   "display_name": "Python 3 (ipykernel)",
   "language": "python",
   "name": "python3"
  },
  "language_info": {
   "codemirror_mode": {
    "name": "ipython",
    "version": 3
   },
   "file_extension": ".py",
   "mimetype": "text/x-python",
   "name": "python",
   "nbconvert_exporter": "python",
   "pygments_lexer": "ipython3",
   "version": "3.11.7"
  }
 },
 "nbformat": 4,
 "nbformat_minor": 5
}
